{
 "cells": [
  {
   "cell_type": "code",
   "execution_count": 1,
   "id": "f616e0ae-9c83-436f-ba68-1a87bf52c54b",
   "metadata": {},
   "outputs": [],
   "source": [
    "import numpy as np"
   ]
  },
  {
   "cell_type": "markdown",
   "id": "c6e60f77-1e4e-4fb5-851b-6cda9fbb6b85",
   "metadata": {},
   "source": [
    "## generate simulated data"
   ]
  },
  {
   "cell_type": "code",
   "execution_count": 3,
   "id": "6bb980f1-f2b9-489f-8c90-33dbfd0ba97b",
   "metadata": {},
   "outputs": [],
   "source": [
    "n = 20\n",
    "xp = np.random.uniform(size=(n,3))\n",
    "yp = (np.random.uniform(size=(n,1)) * 0.1)-0.02\n",
    "pseudotime_current_devices = np.array([0.3,0.35,0.4])"
   ]
  },
  {
   "cell_type": "code",
   "execution_count": 5,
   "id": "6478af86-4039-42b2-bc49-1ea1f4dcffd1",
   "metadata": {},
   "outputs": [],
   "source": [
    "data = {\"xp\": xp, \"yp\":yp, \"pseudotime_current_devices\": pseudotime_current_devices}"
   ]
  },
  {
   "cell_type": "code",
   "execution_count": 6,
   "id": "6102e200-6d4a-4ba4-b44a-40799d2cf60d",
   "metadata": {},
   "outputs": [],
   "source": [
    "np.savez('data.npz', **data)"
   ]
  },
  {
   "cell_type": "code",
   "execution_count": null,
   "id": "ec21d96a-17dc-4688-8669-99fabb14e50e",
   "metadata": {},
   "outputs": [],
   "source": []
  }
 ],
 "metadata": {
  "kernelspec": {
   "display_name": "Python 3 (ipykernel)",
   "language": "python",
   "name": "python3"
  },
  "language_info": {
   "codemirror_mode": {
    "name": "ipython",
    "version": 3
   },
   "file_extension": ".py",
   "mimetype": "text/x-python",
   "name": "python",
   "nbconvert_exporter": "python",
   "pygments_lexer": "ipython3",
   "version": "3.9.20"
  }
 },
 "nbformat": 4,
 "nbformat_minor": 5
}
