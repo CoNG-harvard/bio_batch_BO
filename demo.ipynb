{
 "cells": [
  {
   "cell_type": "markdown",
   "id": "f16f8cef-d69d-457c-a956-9f9eaf329c86",
   "metadata": {},
   "source": [
    "## Importing packages"
   ]
  },
  {
   "cell_type": "code",
   "execution_count": 1,
   "id": "7fdc3e6d-9b08-4126-8fb5-668593206162",
   "metadata": {},
   "outputs": [],
   "source": [
    "import anndata as an\n",
    "import numpy as np\n",
    "import pandas as pd\n",
    "import matplotlib.pyplot as plt\n",
    "from matplotlib import cm\n",
    "from matplotlib.widgets import Slider\n",
    "\n",
    "import scipy.stats as stats\n",
    "import random\n",
    "import joblib\n",
    "from joblib import Parallel, delayed\n",
    "import multiprocessing\n",
    "import itertools\n",
    "import time\n",
    "\n",
    "import sklearn.gaussian_process as gp\n",
    "from sklearn.gaussian_process import GaussianProcessRegressor\n",
    "from sklearn.gaussian_process.kernels import Matern, RBF, ConstantKernel\n",
    "\n",
    "from scipy.stats import norm\n",
    "from scipy.optimize import minimize\n",
    "import torch\n",
    "import gpytorch\n",
    "from sklearn.utils import check_random_state\n",
    "from sklearn.model_selection import train_test_split\n",
    "\n",
    "from gpytorch.constraints.constraints import Interval\n",
    "\n",
    "import re\n",
    "import os\n",
    "import copy"
   ]
  },
  {
   "cell_type": "markdown",
   "id": "4e07e07c-c00a-49d0-99a0-9b08ed7c6fb1",
   "metadata": {},
   "source": [
    "## Import required classes and functions from files in src folder"
   ]
  },
  {
   "cell_type": "code",
   "execution_count": 2,
   "id": "c1748521-a7be-4434-bff2-a752f6373d73",
   "metadata": {},
   "outputs": [],
   "source": [
    "from src.GP_models import ExactGPModel, TorchGPModel\n",
    "from src.bayesian_opt_code import ucb, ES, sample_next_hyperparameter"
   ]
  },
  {
   "cell_type": "markdown",
   "id": "7eb3fe3c-1734-412a-a3cb-8121a374c00b",
   "metadata": {},
   "source": [
    "## Load data and update GP model. Also load pseudotimes of devices for which we wish to sample new actions this round."
   ]
  },
  {
   "cell_type": "code",
   "execution_count": 3,
   "id": "6428d279-6a44-4889-a897-613f2bf5f494",
   "metadata": {},
   "outputs": [],
   "source": [
    "data = np.load('test_data/data.npz')\n",
    "xp = data['xp']\n",
    "yp = data['yp'].reshape(20)\n",
    "s = data['pseudotime_current_devices']\n",
    "model = TorchGPModel(torch.tensor(xp).float(), torch.tensor(yp).float())"
   ]
  },
  {
   "cell_type": "markdown",
   "id": "312cf8a8-f60d-4d59-acef-79304feb7190",
   "metadata": {},
   "source": [
    "## Set parameters. Variables are defined as follows.\n",
    "### bounds: bounds on the state/pseudotime (first dimension) and action space (2-dimensional). \n",
    "### batch_size: number of points to sample in parallel in one round\n",
    "### s_dim: dimension of the pseudotime (1-dim in this problem)\n",
    "### a_dim: dimension of the action (2-dim in this problem)"
   ]
  },
  {
   "cell_type": "code",
   "execution_count": 4,
   "id": "23b99968-41d2-4ce9-b17a-29e98be83473",
   "metadata": {},
   "outputs": [],
   "source": [
    "bounds = np.asarray([[0,1],[0,1],[0,1]])\n",
    "batch_size = 3\n",
    "s_dim = 1\n",
    "a_dim = 2"
   ]
  },
  {
   "cell_type": "markdown",
   "id": "228811f9-af24-4398-9bda-ff4413336bdf",
   "metadata": {},
   "source": [
    "## Perform parallel Entropy Search to select next acquisition points "
   ]
  },
  {
   "cell_type": "code",
   "execution_count": 5,
   "id": "7acb80d6-f06a-4583-8535-f99f130fec11",
   "metadata": {},
   "outputs": [
    {
     "name": "stdout",
     "output_type": "stream",
     "text": [
      "best a [[0.1037811  0.7469702 ]\n",
      " [0.         0.34992424]\n",
      " [0.01       0.9528187 ]]\n"
     ]
    }
   ],
   "source": [
    "use_ES = True\n",
    "next_sa = np.empty((batch_size, s_dim + a_dim))\n",
    "ES_init_points = 10\n",
    "yp = np.copy(yp).reshape(20)\n",
    "for i in range(batch_size):\n",
    "    next_sa[i,s_dim:] = sample_next_hyperparameter(s[i], model, yp, acquisition_func = ucb,acq = \"ucb\",greater_is_better=True, \n",
    "                                                   bounds=bounds)\n",
    "    next_sa[i,:s_dim] = s[i]\n",
    "if use_ES == True:\n",
    "    a_new = ES( next_sa,\n",
    "                model,\n",
    "                state_dim=1,\n",
    "                n_params=2,\n",
    "                beta=0.2,\n",
    "                alpha=0.0,\n",
    "                a_circ=0.2,\n",
    "                tr_iters=20,\n",
    "                domain=bounds[0, :],\n",
    "                init_points=ES_init_points,\n",
    "            )\n",
    "    next_sa[:, s_dim:] = a_new"
   ]
  },
  {
   "cell_type": "markdown",
   "id": "a050da3e-5b73-4434-a1db-606197cd9bd1",
   "metadata": {},
   "source": [
    "## Print proposed proposal of new actions to sample "
   ]
  },
  {
   "cell_type": "code",
   "execution_count": 9,
   "id": "fefadd4d-6d96-41cf-aed0-fb4cc5edb8a0",
   "metadata": {},
   "outputs": [
    {
     "name": "stdout",
     "output_type": "stream",
     "text": [
      "device joint proposal after using ES:  [[0.1037811  0.74697018]\n",
      " [0.         0.34992424]\n",
      " [0.01       0.95281869]]\n",
      "state is  [0.3  0.35 0.4 ]\n"
     ]
    }
   ],
   "source": [
    "    print(\n",
    "        f\"device joint proposal after using ES: \",\n",
    "        next_sa[:, s_dim:])\n",
    "    print(\"state is \",\n",
    "        s)"
   ]
  },
  {
   "cell_type": "code",
   "execution_count": null,
   "id": "70802e19-698a-4cf4-bae8-c41e50674ee3",
   "metadata": {},
   "outputs": [],
   "source": []
  }
 ],
 "metadata": {
  "kernelspec": {
   "display_name": "Python 3 (ipykernel)",
   "language": "python",
   "name": "python3"
  },
  "language_info": {
   "codemirror_mode": {
    "name": "ipython",
    "version": 3
   },
   "file_extension": ".py",
   "mimetype": "text/x-python",
   "name": "python",
   "nbconvert_exporter": "python",
   "pygments_lexer": "ipython3",
   "version": "3.11.10"
  }
 },
 "nbformat": 4,
 "nbformat_minor": 5
}
